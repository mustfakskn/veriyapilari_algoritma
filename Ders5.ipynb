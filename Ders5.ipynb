{
  "nbformat": 4,
  "nbformat_minor": 0,
  "metadata": {
    "colab": {
      "provenance": []
    },
    "kernelspec": {
      "name": "python3",
      "display_name": "Python 3"
    },
    "language_info": {
      "name": "python"
    }
  },
  "cells": [
    {
      "cell_type": "markdown",
      "source": [
        "# Python Koşul - Döngü Örnekleri"
      ],
      "metadata": {
        "id": "6rPD-0eabZkX"
      }
    },
    {
      "cell_type": "code",
      "execution_count": 1,
      "metadata": {
        "colab": {
          "base_uri": "https://localhost:8080/"
        },
        "id": "o14MsebcDPz5",
        "outputId": "06ead331-3f7e-4aeb-bfd3-1c8e347a1784"
      },
      "outputs": [
        {
          "output_type": "stream",
          "name": "stdout",
          "text": [
            "Merhaba, İGÜ - İSTKA / Ders 6\n"
          ]
        }
      ],
      "source": [
        "print(\"Merhaba, İGÜ - İSTKA / Ders 6\")"
      ]
    },
    {
      "cell_type": "code",
      "source": [
        "import sys\n",
        "print(sys.version)"
      ],
      "metadata": {
        "colab": {
          "base_uri": "https://localhost:8080/"
        },
        "id": "g4ICRokEDbi7",
        "outputId": "4c2a41f3-32cf-4662-fc36-2ecafe9eafe9"
      },
      "execution_count": 2,
      "outputs": [
        {
          "output_type": "stream",
          "name": "stdout",
          "text": [
            "3.10.12 (main, Jul 29 2024, 16:56:48) [GCC 11.4.0]\n"
          ]
        }
      ]
    },
    {
      "cell_type": "code",
      "source": [
        "from google.colab import drive # google colab - drive bağlantısı\n",
        "\n",
        "drive.mount('/content/drive')\n",
        ""
      ],
      "metadata": {
        "colab": {
          "base_uri": "https://localhost:8080/"
        },
        "id": "LgJ2Q6FvDlXr",
        "outputId": "6dc042fb-4372-4f2f-afbf-ac20433566db"
      },
      "execution_count": 5,
      "outputs": [
        {
          "output_type": "stream",
          "name": "stdout",
          "text": [
            "Mounted at /content/drive\n"
          ]
        }
      ]
    },
    {
      "cell_type": "code",
      "source": [
        "import os\n",
        "\n",
        "os.chdir('/content/drive/My Drive/VERIYAPILARI_ISTKA')\n",
        "\n",
        "!pwd # bize kodun çıktısını dosya yolu olarak veren kod blogudur."
      ],
      "metadata": {
        "colab": {
          "base_uri": "https://localhost:8080/"
        },
        "id": "p6x6YPpWDxMr",
        "outputId": "f389200c-f764-4d22-b5ce-dd5a66881c3c"
      },
      "execution_count": 9,
      "outputs": [
        {
          "output_type": "stream",
          "name": "stdout",
          "text": [
            "/content/drive/My Drive/VERIYAPILARI_ISTKA\n"
          ]
        }
      ]
    },
    {
      "cell_type": "code",
      "source": [
        "# 1 ile 100 arasındaki sayılardan 7'ye tam bölünenleri ve bölünmeyenleri bulan Python kodu\n",
        "sayi_dizisi=[]\n",
        "sayi_dizisi2=[]\n",
        "sayi=1\n",
        "while sayi<=100:\n",
        "  if sayi%7==0:\n",
        "    sayi_dizisi.append(sayi)\n",
        "  elif sayi % 7 !=0:\n",
        "    sayi_dizisi2.append(sayi)\n",
        "  sayi+=1\n",
        "\n",
        "print(\"1 ile 100 arasındaki 7'ye tam bölünen sayılar:\",sayi_dizisi)\n",
        "print(\"Toplam bölünen sayı adeti: \",len(sayi_dizisi))\n",
        "\n",
        "print(\"1 ile 100 arasındaki 7'ye tam bölünmeyen sayılar:\",sayi_dizisi2)\n",
        "print(\"Toplam bölünmeyen sayı adeti: \",len(sayi_dizisi2))"
      ],
      "metadata": {
        "colab": {
          "base_uri": "https://localhost:8080/"
        },
        "id": "xZFMZvXUGYmL",
        "outputId": "7812e10c-8f31-4963-bfa4-2a64910cf752"
      },
      "execution_count": 12,
      "outputs": [
        {
          "output_type": "stream",
          "name": "stdout",
          "text": [
            "1 ile 100 arasındaki 7'ye tam bölünen sayılar: [7, 14, 21, 28, 35, 42, 49, 56, 63, 70, 77, 84, 91, 98]\n",
            "Toplam bölünen sayı adeti:  14\n",
            "1 ile 100 arasındaki 7'ye tam bölünmeyen sayılar: [1, 2, 3, 4, 5, 6, 8, 9, 10, 11, 12, 13, 15, 16, 17, 18, 19, 20, 22, 23, 24, 25, 26, 27, 29, 30, 31, 32, 33, 34, 36, 37, 38, 39, 40, 41, 43, 44, 45, 46, 47, 48, 50, 51, 52, 53, 54, 55, 57, 58, 59, 60, 61, 62, 64, 65, 66, 67, 68, 69, 71, 72, 73, 74, 75, 76, 78, 79, 80, 81, 82, 83, 85, 86, 87, 88, 89, 90, 92, 93, 94, 95, 96, 97, 99, 100]\n",
            "Toplam bölünmeyen sayı adeti:  86\n"
          ]
        }
      ]
    },
    {
      "cell_type": "code",
      "source": [
        "# Girilen iki kodun hangisinin büyük olduğunu bulan ve sayı dışında girilen karakterin hatalı olduğu bildiren program\n",
        "\n",
        "while True:\n",
        "  try:\n",
        "      gelen1=float(input(\"Birinci sayıyı girin:\"))\n",
        "      gelen2=float(input(\"İkinci sayıyı girin:\"))\n",
        "\n",
        "      if gelen1>gelen2:\n",
        "        print(\"Birinci sayı , İkinci sayıdan büyüktür\")\n",
        "      elif gelen2>gelen1:\n",
        "        print(\"İkinci sayı , Birinci sayıdan büyüktür\")\n",
        "      else:\n",
        "        print(\"Sayılar birbirine eşittir\")\n",
        "\n",
        "      break\n",
        "  except ValueError:\n",
        "    print(\"Lütfen geçerli bir sayı giriniz\")"
      ],
      "metadata": {
        "colab": {
          "base_uri": "https://localhost:8080/"
        },
        "id": "BRqdcXB_JgeR",
        "outputId": "fab18a80-4a0e-42f0-bd8f-85cb771e9736"
      },
      "execution_count": 18,
      "outputs": [
        {
          "output_type": "stream",
          "name": "stdout",
          "text": [
            "Birinci sayıyı girin:2\n",
            "İkinci sayıyı girin:5\n",
            "İkinci sayı , Birinci sayıdan büyüktür\n"
          ]
        }
      ]
    },
    {
      "cell_type": "code",
      "source": [
        "# Kullanıcıdan alınan sayıya kadar 1'den başlayarak faktöreyel hesabının yapan program\n",
        "\n",
        "while True:\n",
        "  try:\n",
        "\n",
        "    sayi=int(input(\"Bir sayı giriniz : \"))\n",
        "    original_sayi = sayi\n",
        "\n",
        "    if sayi<0:\n",
        "      print(\"Negatif sayıların faktöriyelleri hesaplanamaz\")\n",
        "    elif sayi==0 or sayi==1:\n",
        "      print(\"1\")\n",
        "    else:\n",
        "      sonuc = 1\n",
        "      while sayi>1:\n",
        "        sonuc*=sayi\n",
        "        sayi-=1\n",
        "\n",
        "      print(original_sayi,\"sayısının faktöriyeli:\",sonuc)\n",
        "\n",
        "    break\n",
        "  except ValueError:\n",
        "      print(\"Lütfen geçerli bir sayı girin\")"
      ],
      "metadata": {
        "colab": {
          "base_uri": "https://localhost:8080/"
        },
        "id": "QcY8WBv2LX-0",
        "outputId": "fc8bb15e-f6fb-4fd0-c3ab-693bca57717f"
      },
      "execution_count": 36,
      "outputs": [
        {
          "output_type": "stream",
          "name": "stdout",
          "text": [
            "Bir sayı giriniz : 7\n",
            "7 sayısının faktöriyeli: 5040\n"
          ]
        }
      ]
    },
    {
      "cell_type": "code",
      "source": [
        "# Kullanıcıdan başlangıç ve bitiş değerlerini alarak, bu değerler arasındaki çift sayıları bulan ve bu çift sayıların toplamını hesaplayan bir Python programı yazınız.\n",
        "\n",
        "# Kullanıcıdan başlangıç değeri al\n",
        "while True:\n",
        "  try:\n",
        "    baslangic_degeri=int(input(\"Başlangıç değerini giriniz : \"))\n",
        "    if baslangic_degeri < 0 :\n",
        "      baslangic_degeri = abs(baslangic_degeri)\n",
        "      print(f\"Negatif değer girdiniz, pozitif olarak alındı: {baslangic_degeri}\")\n",
        "    break\n",
        "  except ValueError:\n",
        "    print(\"Geçerli bir sayı giriniz.\")\n",
        "\n",
        "# Kullanıcıdan son değer al\n",
        "while True:\n",
        "  try:\n",
        "    bitis_degeri=int(input(\"Bitiş değerini giriniz : \"))\n",
        "    if bitis_degeri < 0 :\n",
        "      bitis_degeri = abs(bitis_degeri)\n",
        "      print(f\"Negatif değer girdiniz, pozitif olarak alındı: {bitis_degeri}\")\n",
        "    break\n",
        "  except ValueError:\n",
        "    print(\"Geçerli bir sayı giriniz.\")\n",
        "\n",
        "# Başlangıç ve bitiş değerleri arasında çift sayıları bul ve topla\n",
        "cift_sayilar = []\n",
        "cift_sayilarin_toplami = 0\n",
        "sayi = baslangic_degeri\n",
        "\n",
        "while sayi<=bitis_degeri:\n",
        "  if sayi % 2 == 0:\n",
        "    cift_sayilar.append(sayi)\n",
        "    cift_sayilarin_toplami += sayi\n",
        "  sayi +=1\n",
        "\n",
        "# Elde edilen çift sayıları ve toplamlarını ekrana yazdır\n",
        "print(f\"{baslangic_degeri} ile {bitis_degeri} arasındaki çift sayılar:\")\n",
        "for num in cift_sayilar:\n",
        "    print(num, end=\" \")\n",
        "\n",
        "print(f\"\\nÇift sayıların toplamı: {cift_sayilarin_toplami}\")"
      ],
      "metadata": {
        "colab": {
          "base_uri": "https://localhost:8080/"
        },
        "id": "gvpuroJAXZmY",
        "outputId": "db51c87c-1d9c-4953-8d4e-1c231e4f4642"
      },
      "execution_count": 43,
      "outputs": [
        {
          "output_type": "stream",
          "name": "stdout",
          "text": [
            "Başlangıç değerini giriniz : -6\n",
            "Negatif değer girdiniz, pozitif olarak alındı: 6\n",
            "Bitiş değerini giriniz : -3\n",
            "Negatif değer girdiniz, pozitif olarak alındı: 3\n",
            "6 ile 3 arasındaki çift sayılar:\n",
            "\n",
            "Çift sayıların toplamı: 0\n"
          ]
        }
      ]
    },
    {
      "cell_type": "code",
      "source": [
        "# Önceden tanımlalan sesli harf listesinde girilen metnin karşılaştırılması yapılarak sesli ve sessiz harf kontrolünün yapımı\n",
        "sesli_harfler = \"a,e,ı,i,u,ü,o,ö,A,E,I,İ,O,Ö,U,Ü\"\n",
        "\n",
        "kelime = input(\"Bir kelime giriniz : \")\n",
        "\n",
        "# Sesli ve sessiz harf sayısını hesapla\n",
        "sesli_harf_sayisi = 0\n",
        "sessiz_harf_sayisi = 0\n",
        "\n",
        "'''\n",
        "isalpha() ile bir stringde yalnızca harf olup olmadığını kontrol etmek için kullanılır.\n",
        "\n",
        "Aşağıdaki kod blogunda geçen \"isalpha\" harf dışı bir karakter ile karşılaşınca \"false\" döndürmektedir.\n",
        "'''\n",
        "\n",
        "for harf in kelime:\n",
        "    if harf.isalpha():  # Sadece harfleri kontrol et\n",
        "        if harf in sesli_harfler:\n",
        "            sesli_harf_sayisi += 1\n",
        "        else:\n",
        "            sessiz_harf_sayisi += 1\n",
        "\n",
        "# Sonuçları ekrana yazdır\n",
        "print(kelime, \"kelimesinde\" , sesli_harf_sayisi , \"adet sesli harf ve\", sessiz_harf_sayisi, \"sessiz harf vardır.\")"
      ],
      "metadata": {
        "colab": {
          "base_uri": "https://localhost:8080/"
        },
        "id": "seoEGWVBbj3f",
        "outputId": "190f38b6-7337-4c7c-fbf8-f09cb84ab3a8"
      },
      "execution_count": 46,
      "outputs": [
        {
          "output_type": "stream",
          "name": "stdout",
          "text": [
            "Bir kelime giriniz : buse \n",
            "buse  kelimesinde 2 adet sesli harf ve 2 sessiz harf vardır.\n"
          ]
        }
      ]
    }
  ]
}